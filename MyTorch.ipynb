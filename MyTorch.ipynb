{
  "nbformat": 4,
  "nbformat_minor": 0,
  "metadata": {
    "colab": {
      "name": "MyTorch.ipynb",
      "provenance": [],
      "collapsed_sections": [],
      "authorship_tag": "ABX9TyMypJjJDoC0YOcxtqqMJn4y",
      "include_colab_link": true
    },
    "kernelspec": {
      "name": "python3",
      "display_name": "Python 3"
    },
    "language_info": {
      "name": "python"
    }
  },
  "cells": [
    {
      "cell_type": "markdown",
      "metadata": {
        "id": "view-in-github",
        "colab_type": "text"
      },
      "source": [
        "<a href=\"https://colab.research.google.com/github/mattbarrett98/mikit-learn/blob/main/MyTorch.ipynb\" target=\"_parent\"><img src=\"https://colab.research.google.com/assets/colab-badge.svg\" alt=\"Open In Colab\"/></a>"
      ]
    },
    {
      "cell_type": "markdown",
      "metadata": {
        "id": "rHSiauXxZMNg"
      },
      "source": [
        "Classification project on MNIST handwritten digits dataset. We will try to code all algorithms from scratch- everything from k nearest neighbours to convolutional neural networks with batch normalisation"
      ]
    },
    {
      "cell_type": "code",
      "metadata": {
        "colab": {
          "base_uri": "https://localhost:8080/",
          "height": 460
        },
        "id": "WSAe-Bm7SFLf",
        "outputId": "d685aec4-29a2-47f8-f549-251278f7fcc8"
      },
      "source": [
        "from keras.datasets import mnist\n",
        "from tensorflow.keras.models import Sequential\n",
        "from tensorflow.keras.layers import Dense, Conv2D, MaxPooling2D, Flatten, BatchNormalization\n",
        "import numpy as np\n",
        "from matplotlib import pyplot\n",
        "import random as rnd\n",
        "from numpy.random import normal as norm\n",
        "\n",
        "#load data and plot first 4 images\n",
        "(train_X, train_y), (test_X, test_y) = mnist.load_data()\n",
        "for i in range(4):  \n",
        "  pyplot.subplot(330 + 1 + i)\n",
        "  pyplot.imshow(train_X[i], cmap=pyplot.get_cmap('gray'))\n",
        "  pyplot.show()\n",
        "\n",
        "#divide by 255 to normalise to [0,1] to ensure all variables on the same scale\n",
        "traindata = (train_X/255).reshape(60000, 784)\n",
        "testdata = (test_X/255).reshape(10000, 784) \n",
        "\n",
        "#one hot encoding is necessary for certain algorithms\n",
        "Y = np.zeros((traindata.shape[0],len(set(train_y))))\n",
        "for i in range(len(Y)):\n",
        "  Y[i, train_y[i]]=1 "
      ],
      "execution_count": null,
      "outputs": [
        {
          "output_type": "stream",
          "name": "stdout",
          "text": [
            "Downloading data from https://storage.googleapis.com/tensorflow/tf-keras-datasets/mnist.npz\n",
            "11493376/11490434 [==============================] - 0s 0us/step\n",
            "11501568/11490434 [==============================] - 0s 0us/step\n"
          ]
        },
        {
          "output_type": "display_data",
          "data": {
            "image/png": "[encoded data removed]",
            "text/plain": [
              "<Figure size 432x288 with 1 Axes>"
            ]
          },
          "metadata": {
            "needs_background": "light"
          }
        },
        {
          "output_type": "display_data",
          "data": {
            "image/png": "[encoded data removed]",
            "text/plain": [
              "<Figure size 432x288 with 1 Axes>"
            ]
          },
          "metadata": {
            "needs_background": "light"
          }
        },
        {
          "output_type": "display_data",
          "data": {
            "image/png": "[encoded data removed]",
            "text/plain": [
              "<Figure size 432x288 with 1 Axes>"
            ]
          },
          "metadata": {
            "needs_background": "light"
          }
        },
        {
          "output_type": "display_data",
          "data": {
            "image/png": "[encoded data removed]",
            "text/plain": [
              "<Figure size 432x288 with 1 Axes>"
            ]
          },
          "metadata": {
            "needs_background": "light"
          }
        }
      ]
    },
    {
      "cell_type": "markdown",
      "metadata": {
        "id": "rUNB6Zv-XLZK"
      },
      "source": [
        "6 Multilayer perceptron\n",
        "\n"
      ]
    },
    {
      "cell_type": "code",
      "metadata": {
        "colab": {
          "base_uri": "https://localhost:8080/"
        },
        "id": "Q1fhFeTjXQIh",
        "outputId": "86dc08c0-f6a6-44e2-8a3e-e2cea895b952"
      },
      "source": [
        "def softmax(x):\n",
        "  p = np.exp(x)\n",
        "  return p / np.sum(p, axis=0)\n",
        "\n",
        "def relu(x):\n",
        "  return (x + abs(x))/2  \n",
        "\n",
        "#2 hidden layers so we have 3 sets of weights and biases\n",
        "def mlp_grad(batch, truth, w1, w2, w3, b1, b2, b3):\n",
        "  z1 = np.matmul(w1, batch) + b1[:,np.newaxis]\n",
        "  a1 = relu(z1)\n",
        "  z2 = np.matmul(w2, a1) + b2[:,np.newaxis]\n",
        "  a2 = relu(z2)\n",
        "  #output of neural network\n",
        "  a3 = softmax(np.matmul(w3, a2) + b3[:,np.newaxis])\n",
        "  #calculate gradients using the chain rule/backpropogation - categorical cross entropy is our loss\n",
        "  inter1 = a3 - truth\n",
        "  grad_b3 = np.sum(inter1, axis=1)\n",
        "  grad_w3 = np.matmul(inter1, a2.T)\n",
        "  inter2 = np.matmul(w3.T, inter1) * np.sign(a2)\n",
        "  grad_b2 = np.sum(inter2, axis=1)\n",
        "  grad_w2 = np.matmul(inter2, a1.T)\n",
        "  inter3 = np.matmul(w2.T, inter2) * np.sign(a1)\n",
        "  grad_b1 = np.sum(inter3, axis=1)\n",
        "  grad_w1 = np.matmul(inter3, batch.T)\n",
        "  return grad_w1, grad_w2, grad_w3, grad_b1, grad_b2, grad_b3\n",
        "\n",
        "#basic gradient descent algorithm  \n",
        "def gradient_descent(batch,truth, par, learning_rate):\n",
        "  grad = mlp_grad(batch, truth, par[0], par[1], par[2], par[3], par[4], par[5])\n",
        "  par = [a - learning_rate*b for a,b in zip(par,grad)]\n",
        "  return par \n",
        "\n",
        "def mini_batch_sgd(X, Y, epochs, batch_size, l2, l3, l4):\n",
        "  #He initialisation since we are using relu activations\n",
        "  par = [np.random.normal(0, np.sqrt(1/X.shape[0]), (l2,X.shape[0])), np.random.normal(0, np.sqrt(2/l2), (l3,l2)), np.random.normal(0, np.sqrt(2/l3), (l4,l3)), np.zeros(l2), np.zeros(l3), np.zeros(l4)]\n",
        "  #loop through entire dataset 'epochs' times\n",
        "  for i in range(epochs):\n",
        "    #in each epoch perform gradient descent on each mini batch\n",
        "    for j in range(int(np.ceil(X.shape[1]/batch_size))):\n",
        "      batch = X[:, batch_size*j:batch_size*(j+1)]\n",
        "      truth = Y[:, batch_size*j:batch_size*(j+1)]\n",
        "      par = gradient_descent(batch, truth, par, 0.01)\n",
        "  return par[0], par[1], par[2], par[3], par[4], par[5]\n",
        "\n",
        "#train network\n",
        "a,b,c,d,e,f = mini_batch_sgd(traindata.T, Y.T, 30, 16, 128, 64, 10)\n",
        "\n",
        "#make predictions and output accuracy\n",
        "z1 = np.matmul(a, testdata.T) + d[:,np.newaxis]\n",
        "a1 = relu(z1)\n",
        "z2 = np.matmul(b, a1) + e[:,np.newaxis]\n",
        "a2 = relu(z2)\n",
        "a3 = softmax(np.matmul(c, a2) + f[:,np.newaxis])\n",
        "sum(np.argmax(a3, axis=0)==test_y)/test_y.shape[0]  "
      ],
      "execution_count": null,
      "outputs": [
        {
          "output_type": "execute_result",
          "data": {
            "text/plain": [
              "0.9765"
            ]
          },
          "metadata": {},
          "execution_count": 19
        }
      ]
    },
    {
      "cell_type": "markdown",
      "metadata": {
        "id": "avEgnbKFep_G"
      },
      "source": [
        "check tensorflow gives a similar result (architecture is the same as is epochs, batch size etc)"
      ]
    },
    {
      "cell_type": "code",
      "metadata": {
        "colab": {
          "base_uri": "https://localhost:8080/"
        },
        "id": "XCZVHPPI4Zzo",
        "outputId": "975f6ab4-2470-497e-a196-fb523f29dbf2"
      },
      "source": [
        "model = Sequential()\n",
        "model.add(Dense(128, input_dim=784, activation='relu'))\n",
        "model.add(Dense(64, 'relu'))\n",
        "model.add(Dense(10, 'softmax'))\n",
        "model.compile(loss='categorical_crossentropy', optimizer='SGD')\n",
        "model.fit(traindata, Y, epochs=30, batch_size=16, verbose=0)\n",
        "pred = model.predict(testdata)\n",
        "sum(np.argmax(np.array(pred), axis=1)==test_y)/test_y.shape[0]"
      ],
      "execution_count": null,
      "outputs": [
        {
          "output_type": "execute_result",
          "data": {
            "text/plain": [
              "0.9778"
            ]
          },
          "metadata": {},
          "execution_count": 18
        }
      ]
    },
    {
      "cell_type": "markdown",
      "metadata": {
        "id": "9etuRBylY2fK"
      },
      "source": [
        "7 Convolutional neural network (with batch normalisation)"
      ]
    },
    {
      "cell_type": "code",
      "metadata": {
        "id": "9GvPsT9JY14d",
        "colab": {
          "base_uri": "https://localhost:8080/"
        },
        "outputId": "9cf44a79-a712-464e-9df3-170d922f285c"
      },
      "source": [
        "#cnn architecture: conv layer with 16 5x5 filters (relu) -> 2x2 maxpool -> batch norm \n",
        "#-> conv layer with 32 5x5 filters (relu) -> 2x2 maxpool -> batch norm -> flatten\n",
        "#-> 256 dense layer (relu) -> batch norm -> 10 unit dense output layer (softmax)\n",
        "\n",
        "filter1, filter2, filter_size, dense, momentum = 16, 32, 5, 256, 0.99\n",
        "def cnn_grad(batch, truth, f1, b1, gamma1, beta1, mu1_MA, var1_MA, f2, b2, gamma2, beta2, mu2_MA, var2_MA, w1, b3, gamma3, beta3, mu3_MA, var3_MA, w2, b4):\n",
        "  size = batch.shape[0]\n",
        "  #first we pad the input with zeros\n",
        "  batch = np.pad(batch, ((0,0),(2,2),(2,2)))\n",
        "  #first convolutional layer \n",
        "  arr1 = np.empty((filter_size**2, size, 28, 28))\n",
        "  for i in range(filter_size**2):\n",
        "    arr1[i,:,:,:] = batch[:, i//5:i//5 + 28, i%5:i%5 + 28]\n",
        "  c1 = np.tensordot(f1, arr1, axes=((1),(0))) + b1.reshape(filter1,1,1,1) \n",
        "  c1 = relu(c1) \n",
        "  #first max pooling layer\n",
        "  s1 = filter1*size*196\n",
        "  z1 = np.arange(s1)\n",
        "  res1 = np.swapaxes(c1.reshape(filter1,size,14,2,14,2),3,4).reshape(s1,4)\n",
        "  arg1 = np.argmax(res1, axis=1)\n",
        "  mp1 = res1[z1, arg1].reshape(filter1,size,14,14)\n",
        "  #first batch normalisation\n",
        "  mu1 = np.mean(mp1, axis=(1,2,3))\n",
        "  m1 = size*196\n",
        "  xmu1 = mp1-mu1.reshape(filter1,1,1,1)\n",
        "  var1 =  np.sum(xmu1**2, axis=(1,2,3))/m1\n",
        "  invsd1 = 1/np.sqrt(var1.reshape(filter1,1,1,1) + 0.001)\n",
        "  x_hat1 = (mp1 - mu1.reshape(filter1,1,1,1)) * invsd1\n",
        "  bn1 = gamma1.reshape(filter1,1,1,1)*x_hat1 + beta1.reshape(filter1,1,1,1)\n",
        "  #update moving averages for mean and var (momentum=0.99)\n",
        "  mu1_MA = momentum*mu1_MA + (1-momentum)*mu1\n",
        "  var1_MA = momentum*var1_MA + (1-momentum)*var1\n",
        "  #pad with zeros\n",
        "  padded = np.pad(bn1, ((0,0),(0,0),(2,2),(2,2)))\n",
        "  #second convolutional layer \n",
        "  arr2=np.empty((filter_size**2,filter1,size,14,14))\n",
        "  for i in range(filter_size**2):\n",
        "    arr2[i,:,:,:,:] = padded[:,:, i//5:i//5 + 14, i%5:i%5 + 14]\n",
        "  c2 = np.tensordot(f2, arr2, axes=((1,2), (1,0))) + b2.reshape(filter2,1,1,1)\n",
        "  c2 = relu(c2)\n",
        "  #second max pooling layer\n",
        "  s2 = filter2*size*49\n",
        "  z2 = np.arange(s2)\n",
        "  res2 = np.swapaxes(c2.reshape(filter2,size,7,2,7,2),3,4).reshape(s2,4)\n",
        "  arg2 = np.argmax(res2, axis=1)\n",
        "  mp2 = res2[z2, arg2].reshape(filter2,size,7,7)\n",
        "  #second batch normalisation\n",
        "  m2 = 49*size\n",
        "  mu2 = np.mean(mp2, axis=(1,2,3))\n",
        "  xmu2 = mp2-mu2.reshape(filter2,1,1,1)\n",
        "  var2 =  np.sum(xmu2**2, axis=(1,2,3))/m2\n",
        "  invsd2 = 1/np.sqrt(var2.reshape(filter2,1,1,1) + 0.001)\n",
        "  x_hat2 = (mp2 - mu2.reshape(filter2,1,1,1)) * invsd2\n",
        "  bn2 = gamma2.reshape(filter2,1,1,1)*x_hat2 + beta2.reshape(filter2,1,1,1)\n",
        "  #update moving averages for mean and var (momentum=0.99)\n",
        "  mu2_MA = momentum*mu2_MA + (1-momentum)*mu2\n",
        "  var2_MA = momentum*var2_MA + (1-momentum)*var2\n",
        "  #flatten the output\n",
        "  flat = np.swapaxes(bn2, 0,1).reshape(size, -1)\n",
        "  # dense layer\n",
        "  d1 = np.matmul(w1, flat.T) + b3[:,np.newaxis]\n",
        "  a1 = relu(d1)\n",
        "  #batch norm\n",
        "  mu3 = np.mean(a1, axis=1) \n",
        "  xmu3 = a1-mu3[:,np.newaxis]\n",
        "  var3 = 1/size * np.sum(xmu3**2, axis=1)\n",
        "  invsd3 = 1/np.sqrt(var3.reshape(dense,1) + 0.001)\n",
        "  x_hat3 = (a1 - mu3.reshape(dense,1))*invsd3\n",
        "  bn3 = gamma3.reshape(dense,1)*x_hat3 + beta3.reshape(dense,1)\n",
        "  #moving averages\n",
        "  mu3_MA = momentum*mu3_MA + (1-momentum)*mu3\n",
        "  var3_MA = momentum*var3_MA + (1-momentum)*var3\n",
        "  #final layer with softmax activation\n",
        "  a2 = softmax(np.matmul(w2, bn3) + b4[:,np.newaxis])\n",
        "  #gradient via backprop - categorical cross entropy loss\n",
        "  inter1 = a2 - truth\n",
        "  db4 = np.sum(inter1, axis=1)\n",
        "  dw2 = np.matmul(inter1, bn3.T)\n",
        "  inter2 = np.matmul(w2.T, inter1)\n",
        "  dbeta3 = np.sum(inter2, axis=1)\n",
        "  dgam3 = np.sum(inter2*x_hat3, axis=1)\n",
        "  dxhat3 = inter2*gamma3[:,np.newaxis]\n",
        "  dsig3 = np.sum(dxhat3*xmu3, axis=1) * 0.5 * (invsd3.reshape(dense)**3)\n",
        "  dmu3 = np.sum(dxhat3*-invsd3, axis=1) + dsig3*np.sum(-2*xmu3, axis=1)/size\n",
        "  inter3 = (dxhat3*invsd3 + dsig3[:,np.newaxis]*2*xmu3/size + dmu3[:,np.newaxis]/size) * np.sign(a1)\n",
        "  db3 = np.sum(inter3, axis=1)\n",
        "  dw1 = np.matmul(inter3, flat)\n",
        "  inter4 = np.swapaxes(np.matmul(w1.T, inter3).T.reshape(size,filter2,7,7),0,1)\n",
        "  dbeta2 = np.sum(inter4, axis=(1,2,3))\n",
        "  dgam2 = np.sum(inter4*x_hat2, axis=(1,2,3))\n",
        "  dxhat2 = inter4*gamma2.reshape(filter2,1,1,1)\n",
        "  dsig2 = np.sum(dxhat2*xmu2, axis=(1,2,3)) * 0.5 * (invsd2.reshape(filter2)**3)\n",
        "  dmu2 = np.sum(dxhat2*-invsd2, axis=(1,2,3)) + dsig2*np.sum(-2*xmu2, axis=(1,2,3))/m2\n",
        "  inter5 = dxhat2*invsd2 + dsig2.reshape(filter2,1,1,1)*2*xmu2/m2 + dmu2.reshape(filter2,1,1,1)/m2\n",
        "  mp_grad2 = np.zeros((s2,4))\n",
        "  mp_grad2[z2,arg2] = inter5.ravel()\n",
        "  mp_grad2 = np.swapaxes(mp_grad2.reshape(filter2,size,7,7,2,2),3,4).reshape(filter2,size,14,14)\n",
        "  inter6 = mp_grad2*np.sign(c2)\n",
        "  db2 = np.sum(inter6, axis=(1,2,3))\n",
        "  df2 = np.swapaxes(np.tensordot(inter6, arr2, axes=((1,2,3),(2,3,4))),1,2)\n",
        "  f2_prime = np.rot90(f2.reshape(filter2,filter1,5,5), 2, axes=(2,3))\n",
        "  pad = np.pad(inter6, ((0,0),(0,0),(2,2),(2,2)))\n",
        "  sub = np.empty((filter_size**2,filter2,size,14,14))\n",
        "  for i in range(filter_size**2):\n",
        "    sub[i,:,:,:,:] = pad[:,:, i//5:i//5 + 14, i%5:i%5 + 14]\n",
        "  inter7 = np.tensordot(f2_prime.reshape(filter2,filter1,filter_size**2), sub, axes=((0,2),(1,0)))\n",
        "  dbeta1 = np.sum(inter7, axis=(1,2,3))\n",
        "  dgam1 = np.sum(inter7*x_hat1, axis=(1,2,3))\n",
        "  dxhat1 = inter7*gamma1.reshape(filter1,1,1,1)\n",
        "  dsig1 = np.sum(dxhat1*xmu1, axis=(1,2,3)) * 0.5 * (invsd1.reshape(filter1)**3)\n",
        "  dmu1 = np.sum(dxhat1*-invsd1, axis=(1,2,3)) + dsig1*np.sum(-2*xmu1, axis=(1,2,3))/m1\n",
        "  inter8 = dxhat1*invsd1 + dsig1.reshape(filter1,1,1,1)*2*xmu1/m1 + dmu1.reshape(filter1,1,1,1)/m1\n",
        "  mp_grad1 = np.zeros((s1,4))\n",
        "  mp_grad1[z1,arg1] = inter8.ravel()\n",
        "  mp_grad1 = np.swapaxes(mp_grad1.reshape(filter1,size,14,14,2,2),3,4).reshape(filter1,size,28,28)\n",
        "  inter9 = mp_grad1*np.sign(c1)\n",
        "  db1 = np.sum(inter9, axis=(1,2,3))\n",
        "  df1 = np.tensordot(inter9, arr1, axes=((1,2,3),(1,2,3)))\n",
        "  return [df1,db1,dgam1,dbeta1,df2,db2,dgam2,dbeta2,dw1,db3,dgam3,dbeta3,dw2,db4],mu1_MA,var1_MA,mu2_MA,var2_MA,mu3_MA,var3_MA\n",
        "  \n",
        "\n",
        "#vanilla gradient descent \n",
        "def gd(batch,truth,p,mu1,var1,mu2,var2,mu3,var3,learning_rate):\n",
        "  grad,mu1,var1,mu2,var2,mu3,var3 = cnn_grad(batch, truth,p[0],p[1],p[2],p[3],mu1, var1, p[4], p[5], p[6], p[7], mu2, var2, p[8], p[9], p[10], p[11], mu3, var3, p[12], p[13]) \n",
        "  p = [a - learning_rate*b for a,b in zip(p,grad)]\n",
        "  return p,mu1,var1,mu2,var2,mu3,var3\n",
        "\n",
        "def mini_batch_sgd(X, Y, epochs, batch_size):\n",
        "  p,mu1,var1,mu2,var2,mu3,var3 = [np.random.uniform(-np.sqrt(6/(filter_size**2+filter1)), np.sqrt(6/(filter_size**2+filter1)), (filter1, filter_size**2)),np.zeros(filter1),np.ones(filter1),np.zeros(filter1),np.random.uniform(-np.sqrt(6/(filter1*filter_size**2+filter2)), np.sqrt(6/(filter1*filter_size**2+filter2)), (filter2, filter1, filter_size**2)),np.zeros(filter2),np.ones(filter2),np.zeros(filter2), np.random.uniform(-np.sqrt(6/(filter2*49 + dense)),np.sqrt(6/(filter2*49 + dense)), (dense, filter2*49)),np.zeros(dense),np.ones(dense),np.zeros(dense),np.random.uniform(-np.sqrt(6/(dense+10)), np.sqrt(6/(dense+10)), (10,dense)),np.zeros(10)],0,1,0,1,0,1 \n",
        "  \n",
        "  #loop through entire dataset 'epochs' times\n",
        "  for i in range(epochs):\n",
        "    #in each epoch perform gradient descent on each mini batch\n",
        "    perm = np.random.permutation(X.shape[0])\n",
        "    X = X[perm, :, :]\n",
        "    Y = Y[:, perm]\n",
        "    for j in range(int(np.ceil(X.shape[0]/batch_size))):\n",
        "      batch = X[batch_size*j:batch_size*(j+1),:,:]\n",
        "      truth = Y[:, batch_size*j:batch_size*(j+1)]\n",
        "      p,mu1,var1,mu2,var2,mu3,var3 = gd(batch, truth, p, mu1, var1, mu2, var2, mu3, var3, 0.005)\n",
        "  return p,mu1,var1,mu2,var2,mu3,var3\n",
        "\n",
        "#train network\n",
        "p, mu1, var1, mu2, var2, mu3, var3 = mini_batch_sgd(train_X, Y.T, 16, 32)  \n",
        "\n",
        "#make predictions\n",
        "pred=np.empty(10000)\n",
        "for j in range(10):\n",
        "  size = test_X[j*1000:1000*(j+1)].shape[0]\n",
        "  batch = np.pad(test_X[1000*j:1000*(j+1)], ((0,0),(2,2),(2,2)))\n",
        "  arr1 = np.empty((25, size, 28, 28))\n",
        "  for i in range(25):\n",
        "     arr1[i,:,:,:] = batch[:, i//5:i//5 + 28, i%5:i%5 + 28]\n",
        "  c1 = np.tensordot(p[0], arr1, axes=((1),(0))) + p[1].reshape(filter1,1,1,1) \n",
        "  c1 = relu(c1) \n",
        "  mp1 = c1.reshape(filter1,size,14,2,14,2).max(axis=(3,5))\n",
        "  x_hat1 = (mp1 - mu1.reshape(filter1,1,1,1)) / np.sqrt(var1.reshape(filter1,1,1,1))\n",
        "  bn1 = p[2].reshape(filter1,1,1,1)*x_hat1 + p[3].reshape(filter1,1,1,1)\n",
        "  padded = np.pad(bn1, ((0,0),(0,0),(2,2),(2,2)))\n",
        "  arr2=np.empty((25,filter1,size,14,14))\n",
        "  for i in range(25):\n",
        "    arr2[i,:,:,:,:] = padded[:,:, i//5:i//5 + 14, i%5:i%5 + 14]\n",
        "  c2 = np.tensordot(p[4], arr2, axes=((1,2), (1,0))) + p[5].reshape(filter2,1,1,1)\n",
        "  c2 = relu(c2)\n",
        "  mp2 = c2.reshape(filter2,size,7,2,7,2).max(axis=(3,5))\n",
        "  x_hat2 = (mp2 - mu2.reshape(filter2,1,1,1)) / np.sqrt(var2.reshape(filter2,1,1,1))\n",
        "  bn2 = p[6].reshape(filter2,1,1,1)*x_hat2 + p[7].reshape(filter2,1,1,1)\n",
        "  flat = np.swapaxes(bn2, 0,1).reshape(size, -1)\n",
        "  d1 = np.matmul(p[8], flat.T) + p[9][:,np.newaxis]\n",
        "  a1 = relu(d1)\n",
        "  x_hat3 = (a1 - mu3.reshape(dense,1)) / np.sqrt(var3.reshape(dense,1))\n",
        "  bn3 = p[10].reshape(dense,1)*x_hat3 + p[11].reshape(dense,1)  \n",
        "  a2 = softmax(np.matmul(p[12], bn3) + p[13][:,np.newaxis])\n",
        "  pred[j*1000:1000*(j+1)] = np.argmax(a2, axis=0)\n",
        "\n",
        "sum(pred==test_y)/test_y.shape[0]"
      ],
      "execution_count": null,
      "outputs": [
        {
          "output_type": "stream",
          "name": "stderr",
          "text": [
            "/usr/local/lib/python3.7/dist-packages/ipykernel_launcher.py:2: RuntimeWarning: overflow encountered in exp\n",
            "  \n",
            "/usr/local/lib/python3.7/dist-packages/ipykernel_launcher.py:3: RuntimeWarning: invalid value encountered in true_divide\n",
            "  This is separate from the ipykernel package so we can avoid doing imports until\n"
          ]
        },
        {
          "output_type": "execute_result",
          "data": {
            "text/plain": [
              "0.9898"
            ]
          },
          "metadata": {},
          "execution_count": 5
        }
      ]
    },
    {
      "cell_type": "markdown",
      "metadata": {
        "id": "9XmSbhgvTF64"
      },
      "source": [
        "check tensorflow provides a similar answer with the same architecture, batch size, epochs, loss etc"
      ]
    },
    {
      "cell_type": "code",
      "metadata": {
        "colab": {
          "base_uri": "https://localhost:8080/"
        },
        "id": "aabLVkox4F1V",
        "outputId": "072cafbe-ae44-49b8-88ee-84bc359e9f02"
      },
      "source": [
        "cnn = Sequential()\n",
        "cnn.add(Conv2D(16, 5, padding='same', input_shape= (28,28,1), activation='relu'))\n",
        "cnn.add(MaxPooling2D(2))\n",
        "cnn.add(BatchNormalization())\n",
        "cnn.add(Conv2D(32, 5, padding='same', activation='relu'))\n",
        "cnn.add(MaxPooling2D(2))\n",
        "cnn.add(BatchNormalization())\n",
        "cnn.add(Flatten())\n",
        "cnn.add(Dense(256, 'relu'))\n",
        "cnn.add(BatchNormalization())\n",
        "cnn.add(Dense(10, activation='softmax'))\n",
        "cnn.compile(optimizer='sgd', loss='categorical_crossentropy')\n",
        "cnn.fit(train_X[:,:,:,np.newaxis], Y, batch_size=32, epochs=16, verbose=0)\n",
        "pred = cnn.predict(test_X[:,:,:,np.newaxis])\n",
        "sum(np.argmax(np.array(pred), axis=1)==test_y)/test_y.shape[0]"
      ],
      "execution_count": null,
      "outputs": [
        {
          "output_type": "execute_result",
          "data": {
            "text/plain": [
              "0.9912"
            ]
          },
          "metadata": {},
          "execution_count": 20
        }
      ]
    }
  ]
}