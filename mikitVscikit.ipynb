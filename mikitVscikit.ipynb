{
  "nbformat": 4,
  "nbformat_minor": 0,
  "metadata": {
    "colab": {
      "name": "mikitVscikit.ipynb",
      "provenance": [],
      "mount_file_id": "19lHzkfYy_RcwuyVdLXE142F8kCNC_PLK",
      "authorship_tag": "ABX9TyNSWHJphW7H0qovMT8wiPq4",
      "include_colab_link": true
    },
    "kernelspec": {
      "name": "python3",
      "display_name": "Python 3"
    },
    "language_info": {
      "name": "python"
    }
  },
  "cells": [
    {
      "cell_type": "markdown",
      "metadata": {
        "id": "view-in-github",
        "colab_type": "text"
      },
      "source": [
        "<a href=\"https://colab.research.google.com/github/mattbarrett98/mikit-learn/blob/main/mikitVscikit.ipynb\" target=\"_parent\"><img src=\"https://colab.research.google.com/assets/colab-badge.svg\" alt=\"Open In Colab\"/></a>"
      ]
    },
    {
      "cell_type": "markdown",
      "source": [
        "# Connect to mklearn.ipynb"
      ],
      "metadata": {
        "id": "RwNI3wlwZvb2"
      }
    },
    {
      "cell_type": "code",
      "source": [
        "from google.colab import drive\n",
        "drive.mount(\"mnt\")\n",
        "%cd \"mnt/My Drive/Colab Notebooks\"\n",
        "!pip install import-ipynb\n",
        "import import_ipynb"
      ],
      "metadata": {
        "colab": {
          "base_uri": "https://localhost:8080/"
        },
        "id": "mJvxJxpr6gpL",
        "outputId": "87ce4e0d-a9ba-4432-b3f6-438a453d4ea2"
      },
      "execution_count": null,
      "outputs": [
        {
          "output_type": "stream",
          "name": "stdout",
          "text": [
            "Mounted at mnt\n",
            "/content/mnt/My Drive/Colab Notebooks\n",
            "Collecting import-ipynb\n",
            "  Downloading import-ipynb-0.1.3.tar.gz (4.0 kB)\n",
            "Building wheels for collected packages: import-ipynb\n",
            "  Building wheel for import-ipynb (setup.py) ... \u001b[?25l\u001b[?25hdone\n",
            "  Created wheel for import-ipynb: filename=import_ipynb-0.1.3-py3-none-any.whl size=2975 sha256=955bad292da9117606b9510c8ec1a49b6592af380f8db256213195426d11edba\n",
            "  Stored in directory: /root/.cache/pip/wheels/b1/5e/dc/79780689896a056199b0b9f24471e3ee184fbd816df355d5f0\n",
            "Successfully built import-ipynb\n",
            "Installing collected packages: import-ipynb\n",
            "Successfully installed import-ipynb-0.1.3\n"
          ]
        }
      ]
    },
    {
      "cell_type": "code",
      "source": [
        "import warnings\n",
        "warnings.filterwarnings(\"ignore\")"
      ],
      "metadata": {
        "id": "_qJV7cJztr80"
      },
      "execution_count": null,
      "outputs": []
    },
    {
      "cell_type": "markdown",
      "source": [
        "# mikit and scikit imports"
      ],
      "metadata": {
        "id": "QyjgfIEzZfPi"
      }
    },
    {
      "cell_type": "code",
      "source": [
        "from mklearn import Preprocessing\n",
        "from mklearn import MiKNeighboursClassifier\n",
        "from mklearn import MiLogisticClassifier\n",
        "from mklearn import MiSupportVectorClassifier\n",
        "from mklearn import MiDecisionTreeClassifier\n",
        "from mklearn import MiRandomForestClassifier\n",
        "\n",
        "from sklearn.neighbors import KNeighborsClassifier\n",
        "from sklearn.linear_model import LogisticRegression\n",
        "from sklearn.svm import SVC\n",
        "from sklearn.tree import DecisionTreeClassifier\n",
        "from sklearn.ensemble import RandomForestClassifier"
      ],
      "metadata": {
        "colab": {
          "base_uri": "https://localhost:8080/"
        },
        "id": "UfV_bvrO9LLb",
        "outputId": "07b70cbb-c9f3-4a3d-98e8-102ce0cabf58"
      },
      "execution_count": null,
      "outputs": [
        {
          "output_type": "stream",
          "name": "stdout",
          "text": [
            "importing Jupyter notebook from mklearn.ipynb\n"
          ]
        }
      ]
    },
    {
      "cell_type": "markdown",
      "source": [
        "# Plots"
      ],
      "metadata": {
        "id": "nlPSY89kZcJ2"
      }
    },
    {
      "cell_type": "code",
      "source": [
        "#load data and plot first 4 images\n",
        "from keras.datasets import mnist\n",
        "from matplotlib import pyplot\n",
        "(train_x, train_y), (test_x, test_y) = mnist.load_data()\n",
        "train_x, test_x = train_x.astype(int), test_x.astype(int)\n",
        "for i in range(4):  \n",
        "  pyplot.subplot(330 + 1 + i)\n",
        "  pyplot.imshow(train_x[i], cmap=pyplot.get_cmap('gray'))\n",
        "  pyplot.show()"
      ],
      "metadata": {
        "colab": {
          "base_uri": "https://localhost:8080/",
          "height": 457
        },
        "id": "T3tEE6yK9j3z",
        "outputId": "ce6acf48-81f8-455c-8574-779db67f8729"
      },
      "execution_count": null,
      "outputs": [
        {
          "output_type": "stream",
          "name": "stdout",
          "text": [
            "Downloading data from https://storage.googleapis.com/tensorflow/tf-keras-datasets/mnist.npz\n",
            "11493376/11490434 [==============================] - 0s 0us/step\n",
            "11501568/11490434 [==============================] - 0s 0us/step\n"
          ]
        },
        {
          "output_type": "display_data",
          "data": {
            "image/png": "[encoded data removed]",
            "text/plain": [
              "<Figure size 432x288 with 1 Axes>"
            ]
          },
          "metadata": {
            "needs_background": "light"
          }
        },
        {
          "output_type": "display_data",
          "data": {
            "image/png": "[encoded data removed]",
            "text/plain": [
              "<Figure size 432x288 with 1 Axes>"
            ]
          },
          "metadata": {
            "needs_background": "light"
          }
        },
        {
          "output_type": "display_data",
          "data": {
            "image/png": "[encoded data removed]",
            "text/plain": [
              "<Figure size 432x288 with 1 Axes>"
            ]
          },
          "metadata": {
            "needs_background": "light"
          }
        },
        {
          "output_type": "display_data",
          "data": {
            "image/png": "[encoded data removed]",
            "text/plain": [
              "<Figure size 432x288 with 1 Axes>"
            ]
          },
          "metadata": {
            "needs_background": "light"
          }
        }
      ]
    },
    {
      "cell_type": "markdown",
      "source": [
        "# Preprocessing"
      ],
      "metadata": {
        "id": "XrnZ0WGuZXM5"
      }
    },
    {
      "cell_type": "code",
      "source": [
        "# Here we have all the possible data formats required by our algorithms\n",
        "train_x, test_x = Preprocessing.flatten_image(train_x, test_x)\n",
        "train_x_norm, test_x_norm = Preprocessing.normalise_data(train_x, test_x)\n",
        "train_y_one_hot = Preprocessing.one_hot_encode(train_y)\n",
        "train_y_svm = Preprocessing.get_svc_output(train_y)"
      ],
      "metadata": {
        "id": "d3oxU6Ih-CxP"
      },
      "execution_count": null,
      "outputs": []
    },
    {
      "cell_type": "markdown",
      "source": [
        "## mikit vs scikit implementations. They are considered equal if their classification accuracies are within 0.5% of each other."
      ],
      "metadata": {
        "id": "SFNcLYwyDi4J"
      }
    },
    {
      "cell_type": "markdown",
      "source": [
        "# K nearest neighbours"
      ],
      "metadata": {
        "id": "QHFtHLAxNjWD"
      }
    },
    {
      "cell_type": "code",
      "source": [
        "sk_knn = KNeighborsClassifier(n_neighbors=5)\n",
        "sk_knn.fit(train_x_norm, train_y)\n",
        "sk_knn_predictions = sk_knn.predict(test_x_norm)\n",
        "sk_knn.accuracy = 100*sum(sk_knn_predictions == test_y) / test_y.shape[0]\n",
        "print('{}%'.format(sk_knn.accuracy)) "
      ],
      "metadata": {
        "colab": {
          "base_uri": "https://localhost:8080/"
        },
        "id": "m3F0qwMuIbyK",
        "outputId": "28eae4b6-4c19-4b75-ea41-f77178501743"
      },
      "execution_count": null,
      "outputs": [
        {
          "output_type": "stream",
          "name": "stdout",
          "text": [
            "96.88%\n"
          ]
        }
      ]
    },
    {
      "cell_type": "code",
      "source": [
        "k, n_splits = 5, 4\n",
        "mi_knn = MiKNeighboursClassifier(k, n_splits)\n",
        "mi_knn.fit(train_x_norm, train_y)\n",
        "mi_knn_predictions = mi_knn.predict(test_x_norm)\n",
        "mi_knn.evaluate_predictions(mi_knn_predictions, test_y)\n",
        "print('{}%.'.format(mi_knn.accuracy), mi_knn == sk_knn)"
      ],
      "metadata": {
        "colab": {
          "base_uri": "https://localhost:8080/"
        },
        "id": "IMXAb07iDBJ-",
        "outputId": "09744c4e-808a-46e0-f63d-c012a4239075"
      },
      "execution_count": null,
      "outputs": [
        {
          "output_type": "stream",
          "name": "stdout",
          "text": [
            "96.88%. True, mklearn's accuracy is the same as sklearn's.\n"
          ]
        }
      ]
    },
    {
      "cell_type": "markdown",
      "source": [
        "# Multinomial logistic regression"
      ],
      "metadata": {
        "id": "QRy7tmhuNrcw"
      }
    },
    {
      "cell_type": "code",
      "source": [
        "sk_logistic = LogisticRegression(multi_class='multinomial', solver='lbfgs')\n",
        "sk_logistic.fit(train_x_norm, train_y)\n",
        "sk_logistic_predictions = sk_logistic.predict(test_x_norm)\n",
        "sk_logistic.accuracy = 100*sum(sk_logistic_predictions == test_y)/test_y.shape[0]\n",
        "print('{}%'.format(sk_logistic.accuracy))"
      ],
      "metadata": {
        "colab": {
          "base_uri": "https://localhost:8080/"
        },
        "id": "VAONUPx0Liks",
        "outputId": "7abe7b27-a6f7-464f-bc56-9cdc698911f3"
      },
      "execution_count": null,
      "outputs": [
        {
          "output_type": "stream",
          "name": "stdout",
          "text": [
            "92.58%\n"
          ]
        }
      ]
    },
    {
      "cell_type": "code",
      "source": [
        "mi_logistic = MiLogisticClassifier()\n",
        "mi_logistic.fit(train_x_norm, train_y_one_hot)\n",
        "mi_logistic_predictions = mi_logistic.predict(test_x_norm)\n",
        "mi_logistic.evaluate_predictions(mi_logistic_predictions, test_y)\n",
        "print('{}%.'.format(mi_logistic.accuracy), mi_logistic == sk_logistic)"
      ],
      "metadata": {
        "colab": {
          "base_uri": "https://localhost:8080/"
        },
        "id": "H_XNfjGGMWSP",
        "outputId": "8c103725-0267-4a70-8ee6-37e5f0107cb0"
      },
      "execution_count": null,
      "outputs": [
        {
          "output_type": "stream",
          "name": "stdout",
          "text": [
            "92.56%. True, mklearn's accuracy is just 0.02% lower than sklearn's.\n"
          ]
        }
      ]
    },
    {
      "cell_type": "markdown",
      "source": [
        "# Support vector classifier"
      ],
      "metadata": {
        "id": "0JiURRFHOWSN"
      }
    },
    {
      "cell_type": "code",
      "source": [
        "# SVCs don't scale too well with more training data so we use only 10000 points\n",
        "n = 10000\n",
        "sk_svc = SVC().fit(train_x_norm[0:n], train_y[0:n])\n",
        "sk_svc_predictions = sk_svc.predict(test_x_norm)\n",
        "sk_svc.accuracy = 100*sum(sk_svc_predictions == test_y) / test_y.shape[0]\n",
        "print('{}%'.format(sk_svc.accuracy))"
      ],
      "metadata": {
        "colab": {
          "base_uri": "https://localhost:8080/"
        },
        "id": "oEnx5FhQOaGh",
        "outputId": "7dbb99a8-28ba-4e83-d834-72c0e2312ef4"
      },
      "execution_count": null,
      "outputs": [
        {
          "output_type": "stream",
          "name": "stdout",
          "text": [
            "95.94%\n"
          ]
        }
      ]
    },
    {
      "cell_type": "code",
      "source": [
        "C, epsilon, tol, max_iter = 1.0, 2.5e-3, 1e-3, 300\n",
        "mi_svc = MiSupportVectorClassifier(C, epsilon, tol, max_iter)\n",
        "mi_svc.fit(train_x_norm[0:n], train_y_svm[:, 0:n])\n",
        "mi_svc_predictions = mi_svc.predict(test_x_norm)\n",
        "mi_svc.evaluate_predictions(mi_svc_predictions, test_y)\n",
        "print('{}%.'.format(mi_svc.accuracy), mi_svc == sk_svc)"
      ],
      "metadata": {
        "colab": {
          "base_uri": "https://localhost:8080/"
        },
        "id": "LSz5glfhOow1",
        "outputId": "aa684785-cc52-4d21-fed5-951299fb0631"
      },
      "execution_count": null,
      "outputs": [
        {
          "output_type": "stream",
          "name": "stdout",
          "text": [
            "95.55%. True, mklearn's accuracy is just 0.39% lower than sklearn's.\n"
          ]
        }
      ]
    },
    {
      "cell_type": "markdown",
      "source": [
        "# Decision tree"
      ],
      "metadata": {
        "id": "H2yQuDVATERf"
      }
    },
    {
      "cell_type": "code",
      "source": [
        "n = 10000\n",
        "sk_tree = DecisionTreeClassifier(max_depth=20)\n",
        "sk_tree.fit(train_x_norm[0:n], train_y[0:n])\n",
        "sk_tree_predictions = sk_tree.predict(test_x_norm)\n",
        "sk_tree.accuracy = 100*sum(sk_tree_predictions == test_y) / test_y.shape[0]\n",
        "print('{}%'.format(sk_tree.accuracy))"
      ],
      "metadata": {
        "colab": {
          "base_uri": "https://localhost:8080/"
        },
        "id": "z-lI8xr9TI26",
        "outputId": "b528b674-6072-4427-97ef-96c01d520075"
      },
      "execution_count": null,
      "outputs": [
        {
          "output_type": "stream",
          "name": "stdout",
          "text": [
            "80.68%\n"
          ]
        }
      ]
    },
    {
      "cell_type": "code",
      "source": [
        "max_depth, min_samples_split, min_gini = 20, 2, 1e-5\n",
        "mi_tree = MiDecisionTreeClassifier(max_depth, min_samples_split, min_gini)\n",
        "mi_tree.fit(train_x_norm[0:n], train_y_one_hot[0:n])\n",
        "mi_tree_predictions = mi_tree.predict(test_x_norm)\n",
        "mi_tree.evaluate_predictions(mi_tree_predictions, test_y)\n",
        "print('{}%.'.format(mi_tree.accuracy), mi_tree == sk_tree)"
      ],
      "metadata": {
        "colab": {
          "base_uri": "https://localhost:8080/"
        },
        "id": "MMnFXWHoTajG",
        "outputId": "c0c5709e-bf5d-42fd-fa90-0d116e9c90f9"
      },
      "execution_count": null,
      "outputs": [
        {
          "output_type": "stream",
          "name": "stdout",
          "text": [
            "80.91%. True, mklearn's accuracy is just 0.23% higher than sklearn's.\n"
          ]
        }
      ]
    },
    {
      "cell_type": "markdown",
      "source": [
        "# Random forest"
      ],
      "metadata": {
        "id": "LgnnP6E-XhtY"
      }
    },
    {
      "cell_type": "code",
      "source": [
        "n = 10000\n",
        "sk_forest = RandomForestClassifier(max_features=100, max_depth=20)\n",
        "sk_forest.fit(train_x[0:n], train_y[0:n])\n",
        "sk_forest_predictions = sk_forest.predict(test_x)\n",
        "sk_forest.accuracy = 100*sum(sk_forest_predictions == test_y) / test_y.shape[0]\n",
        "print('{}%'.format(sk_forest.accuracy))"
      ],
      "metadata": {
        "colab": {
          "base_uri": "https://localhost:8080/"
        },
        "id": "S1TlhbgdXjls",
        "outputId": "f6381c2f-e9d3-4e28-da40-e034c0fc7958"
      },
      "execution_count": null,
      "outputs": [
        {
          "output_type": "stream",
          "name": "stdout",
          "text": [
            "94.51%\n"
          ]
        }
      ]
    },
    {
      "cell_type": "code",
      "source": [
        "n_trees, max_features, max_depth = 100, 100, 20 \n",
        "min_samples_split, min_gini, n_jobs = 2, 1e-5, 2\n",
        "mi_forest = MiRandomForestClassifier(n_trees, max_features, max_depth,\n",
        "                                     min_samples_split, min_gini, n_jobs)\n",
        "mi_forest.fit(train_x[0:n], train_y_one_hot[0:n])\n",
        "mi_forest_predictions = mi_forest.predict(test_x)\n",
        "mi_forest.evaluate_predictions(mi_forest_predictions, test_y)\n",
        "print('{}%.'.format(mi_forest.accuracy), mi_forest == sk_forest)"
      ],
      "metadata": {
        "colab": {
          "base_uri": "https://localhost:8080/"
        },
        "id": "Q2dZ9HWhYDaA",
        "outputId": "1d9ad2aa-5eca-42a0-af4b-ab57ebfd9ff2"
      },
      "execution_count": null,
      "outputs": [
        {
          "output_type": "stream",
          "name": "stdout",
          "text": [
            "94.13%. True, mklearn's accuracy is just 0.38% lower than sklearn's.\n"
          ]
        }
      ]
    }
  ]
}