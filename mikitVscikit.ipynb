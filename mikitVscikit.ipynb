{
  "cells": [
    {
      "cell_type": "markdown",
      "metadata": {
        "id": "view-in-github",
        "colab_type": "text"
      },
      "source": [
        "<a href=\"https://colab.research.google.com/github/mattbarrett98/mikit-learn/blob/main/mikitVscikit.ipynb\" target=\"_parent\"><img src=\"https://colab.research.google.com/assets/colab-badge.svg\" alt=\"Open In Colab\"/></a>"
      ]
    },
    {
      "cell_type": "markdown",
      "metadata": {
        "id": "RwNI3wlwZvb2"
      },
      "source": [
        "# Connect to mklearn and MyTorch"
      ]
    },
    {
      "cell_type": "code",
      "execution_count": null,
      "metadata": {
        "id": "mJvxJxpr6gpL"
      },
      "outputs": [],
      "source": [
        "from google.colab import drive\n",
        "drive.mount(\"mnt\")\n",
        "%cd \"mnt/My Drive/Colab Notebooks\"\n",
        "!pip install import-ipynb\n",
        "import import_ipynb\n",
        "import warnings\n",
        "warnings.filterwarnings(\"ignore\")"
      ]
    },
    {
      "cell_type": "markdown",
      "metadata": {
        "id": "QyjgfIEzZfPi"
      },
      "source": [
        "# mikit and scikit imports"
      ]
    },
    {
      "cell_type": "code",
      "execution_count": 2,
      "metadata": {
        "colab": {
          "base_uri": "https://localhost:8080/"
        },
        "id": "UfV_bvrO9LLb",
        "outputId": "fc0a788b-9837-402c-aa7c-5d8a834ddb0b"
      },
      "outputs": [
        {
          "output_type": "stream",
          "name": "stdout",
          "text": [
            "importing Jupyter notebook from mklearn.ipynb\n"
          ]
        }
      ],
      "source": [
        "from mklearn import Preprocessing\n",
        "from mklearn import MiKNeighboursClassifier\n",
        "from mklearn import MiLogisticClassifier\n",
        "from mklearn import MiSupportVectorClassifier\n",
        "from mklearn import MiDecisionTreeClassifier\n",
        "from mklearn import MiRandomForestClassifier\n",
        "\n",
        "from sklearn.neighbors import KNeighborsClassifier\n",
        "from sklearn.linear_model import LogisticRegression\n",
        "from sklearn.svm import SVC\n",
        "from sklearn.tree import DecisionTreeClassifier\n",
        "from sklearn.ensemble import RandomForestClassifier"
      ]
    },
    {
      "cell_type": "markdown",
      "metadata": {
        "id": "nlPSY89kZcJ2"
      },
      "source": [
        "# Plots"
      ]
    },
    {
      "cell_type": "code",
      "execution_count": 3,
      "metadata": {
        "colab": {
          "base_uri": "https://localhost:8080/",
          "height": 479
        },
        "id": "T3tEE6yK9j3z",
        "outputId": "b532da0a-da7e-4395-a364-b151b257677d"
      },
      "outputs": [
        {
          "output_type": "stream",
          "name": "stdout",
          "text": [
            "Downloading data from https://storage.googleapis.com/tensorflow/tf-keras-datasets/mnist.npz\n",
            "11493376/11490434 [==============================] - 0s 0us/step\n",
            "11501568/11490434 [==============================] - 0s 0us/step\n"
          ]
        },
        {
          "output_type": "display_data",
          "data": {
            "image/png": "[encoded data removed]",
            "text/plain": [
              "<Figure size 432x288 with 1 Axes>"
            ]
          },
          "metadata": {
            "needs_background": "light"
          }
        },
        {
          "output_type": "display_data",
          "data": {
            "image/png": "[encoded data removed]",
            "text/plain": [
              "<Figure size 432x288 with 1 Axes>"
            ]
          },
          "metadata": {
            "needs_background": "light"
          }
        },
        {
          "output_type": "display_data",
          "data": {
            "image/png": "[encoded data removed]",
            "text/plain": [
              "<Figure size 432x288 with 1 Axes>"
            ]
          },
          "metadata": {
            "needs_background": "light"
          }
        },
        {
          "output_type": "display_data",
          "data": {
            "image/png": "[encoded data removed]",
            "text/plain": [
              "<Figure size 432x288 with 1 Axes>"
            ]
          },
          "metadata": {
            "needs_background": "light"
          }
        }
      ],
      "source": [
        "#load data and plot first 4 images\n",
        "from keras.datasets import mnist\n",
        "from matplotlib import pyplot\n",
        "(train_X, train_y), (test_X, test_y) = mnist.load_data()\n",
        "train_X, test_X = train_X.astype(int), test_X.astype(int)\n",
        "for i in range(4):  \n",
        "  pyplot.subplot(330 + 1 + i)\n",
        "  pyplot.imshow(train_X[i], cmap=pyplot.get_cmap('gray'))\n",
        "  pyplot.show()"
      ]
    },
    {
      "cell_type": "markdown",
      "metadata": {
        "id": "XrnZ0WGuZXM5"
      },
      "source": [
        "# Preprocessing"
      ]
    },
    {
      "cell_type": "code",
      "execution_count": 4,
      "metadata": {
        "id": "d3oxU6Ih-CxP"
      },
      "outputs": [],
      "source": [
        "# Here we have all the possible data formats required by our algorithms\n",
        "train_x, test_x = Preprocessing.flatten_image(train_X, test_X)\n",
        "train_x_norm, test_x_norm = Preprocessing.normalise_data(train_x, test_x)\n",
        "train_y_one_hot = Preprocessing.one_hot_encode(train_y)\n",
        "train_y_svm = Preprocessing.get_svc_output(train_y)"
      ]
    },
    {
      "cell_type": "markdown",
      "metadata": {
        "id": "SFNcLYwyDi4J"
      },
      "source": [
        "mikit vs scikit implementations. They are considered equal if their classification accuracies are within 0.5% of each other."
      ]
    },
    {
      "cell_type": "markdown",
      "metadata": {
        "id": "QHFtHLAxNjWD"
      },
      "source": [
        "# K nearest neighbours"
      ]
    },
    {
      "cell_type": "markdown",
      "source": [
        "## scikit"
      ],
      "metadata": {
        "id": "3T-iYNvw4cA5"
      }
    },
    {
      "cell_type": "code",
      "execution_count": 5,
      "metadata": {
        "colab": {
          "base_uri": "https://localhost:8080/"
        },
        "id": "m3F0qwMuIbyK",
        "outputId": "1ce07edc-e679-41b0-89ef-c59db170adac"
      },
      "outputs": [
        {
          "output_type": "stream",
          "name": "stdout",
          "text": [
            "96.88%\n"
          ]
        }
      ],
      "source": [
        "sk_knn = KNeighborsClassifier(n_neighbors=5)\n",
        "sk_knn.fit(train_x_norm, train_y)\n",
        "sk_knn_predictions = sk_knn.predict(test_x_norm)\n",
        "sk_knn.accuracy = 100*sum(sk_knn_predictions == test_y) / test_y.shape[0]\n",
        "print('{}%'.format(sk_knn.accuracy)) "
      ]
    },
    {
      "cell_type": "markdown",
      "source": [
        "## mikit"
      ],
      "metadata": {
        "id": "00M9HafB4hcB"
      }
    },
    {
      "cell_type": "code",
      "execution_count": 7,
      "metadata": {
        "colab": {
          "base_uri": "https://localhost:8080/"
        },
        "id": "IMXAb07iDBJ-",
        "outputId": "6f304cf8-f450-4616-e213-0a39556c62f0"
      },
      "outputs": [
        {
          "output_type": "stream",
          "name": "stdout",
          "text": [
            "96.88%. True, mklearn's accuracy is the same as sklearn's.\n"
          ]
        }
      ],
      "source": [
        "k, n_splits = 5, 4\n",
        "mi_knn = MiKNeighboursClassifier(k, n_splits)\n",
        "mi_knn.fit(train_x_norm, train_y)\n",
        "mi_knn_predictions = mi_knn.predict(test_x_norm)\n",
        "mi_knn.evaluate_predictions(mi_knn_predictions, test_y)\n",
        "print('{}%.'.format(mi_knn.accuracy), mi_knn == sk_knn)"
      ]
    },
    {
      "cell_type": "markdown",
      "metadata": {
        "id": "QRy7tmhuNrcw"
      },
      "source": [
        "# Multinomial logistic regression"
      ]
    },
    {
      "cell_type": "markdown",
      "source": [
        "## scikit"
      ],
      "metadata": {
        "id": "FeDWjV9g4sYL"
      }
    },
    {
      "cell_type": "code",
      "execution_count": null,
      "metadata": {
        "colab": {
          "base_uri": "https://localhost:8080/"
        },
        "id": "VAONUPx0Liks",
        "outputId": "7abe7b27-a6f7-464f-bc56-9cdc698911f3"
      },
      "outputs": [
        {
          "name": "stdout",
          "output_type": "stream",
          "text": [
            "92.58%\n"
          ]
        }
      ],
      "source": [
        "sk_logistic = LogisticRegression(multi_class='multinomial', solver='lbfgs')\n",
        "sk_logistic.fit(train_x_norm, train_y)\n",
        "sk_logistic_predictions = sk_logistic.predict(test_x_norm)\n",
        "sk_logistic.accuracy = 100*sum(sk_logistic_predictions == test_y)/test_y.shape[0]\n",
        "print('{}%'.format(sk_logistic.accuracy))"
      ]
    },
    {
      "cell_type": "markdown",
      "source": [
        "## mikit"
      ],
      "metadata": {
        "id": "kna0gd5t4uKY"
      }
    },
    {
      "cell_type": "code",
      "execution_count": null,
      "metadata": {
        "colab": {
          "base_uri": "https://localhost:8080/"
        },
        "id": "H_XNfjGGMWSP",
        "outputId": "8c103725-0267-4a70-8ee6-37e5f0107cb0"
      },
      "outputs": [
        {
          "name": "stdout",
          "output_type": "stream",
          "text": [
            "92.56%. True, mklearn's accuracy is just 0.02% lower than sklearn's.\n"
          ]
        }
      ],
      "source": [
        "mi_logistic = MiLogisticClassifier()\n",
        "mi_logistic.fit(train_x_norm, train_y_one_hot)\n",
        "mi_logistic_predictions = mi_logistic.predict(test_x_norm)\n",
        "mi_logistic.evaluate_predictions(mi_logistic_predictions, test_y)\n",
        "print('{}%.'.format(mi_logistic.accuracy), mi_logistic == sk_logistic)"
      ]
    },
    {
      "cell_type": "markdown",
      "metadata": {
        "id": "0JiURRFHOWSN"
      },
      "source": [
        "# Support vector classifier"
      ]
    },
    {
      "cell_type": "markdown",
      "source": [
        "## scikit"
      ],
      "metadata": {
        "id": "FIhFRlZi419O"
      }
    },
    {
      "cell_type": "code",
      "execution_count": null,
      "metadata": {
        "colab": {
          "base_uri": "https://localhost:8080/"
        },
        "id": "oEnx5FhQOaGh",
        "outputId": "7dbb99a8-28ba-4e83-d834-72c0e2312ef4"
      },
      "outputs": [
        {
          "name": "stdout",
          "output_type": "stream",
          "text": [
            "95.94%\n"
          ]
        }
      ],
      "source": [
        "# SVCs don't scale too well with more training data so we use only 10000 points\n",
        "n = 10000\n",
        "sk_svc = SVC().fit(train_x_norm[0:n], train_y[0:n])\n",
        "sk_svc_predictions = sk_svc.predict(test_x_norm)\n",
        "sk_svc.accuracy = 100*sum(sk_svc_predictions == test_y) / test_y.shape[0]\n",
        "print('{}%'.format(sk_svc.accuracy))"
      ]
    },
    {
      "cell_type": "markdown",
      "source": [
        "## mikit"
      ],
      "metadata": {
        "id": "8gCWVhmf435s"
      }
    },
    {
      "cell_type": "code",
      "execution_count": null,
      "metadata": {
        "colab": {
          "base_uri": "https://localhost:8080/"
        },
        "id": "LSz5glfhOow1",
        "outputId": "aa684785-cc52-4d21-fed5-951299fb0631"
      },
      "outputs": [
        {
          "name": "stdout",
          "output_type": "stream",
          "text": [
            "95.55%. True, mklearn's accuracy is just 0.39% lower than sklearn's.\n"
          ]
        }
      ],
      "source": [
        "C, epsilon, tol, max_iter = 1.0, 2.5e-3, 1e-3, 300\n",
        "mi_svc = MiSupportVectorClassifier(C, epsilon, tol, max_iter)\n",
        "mi_svc.fit(train_x_norm[0:n], train_y_svm[:, 0:n])\n",
        "mi_svc_predictions = mi_svc.predict(test_x_norm)\n",
        "mi_svc.evaluate_predictions(mi_svc_predictions, test_y)\n",
        "print('{}%.'.format(mi_svc.accuracy), mi_svc == sk_svc)"
      ]
    },
    {
      "cell_type": "markdown",
      "metadata": {
        "id": "H2yQuDVATERf"
      },
      "source": [
        "# Decision tree"
      ]
    },
    {
      "cell_type": "markdown",
      "source": [
        "## scikit"
      ],
      "metadata": {
        "id": "DZbGiHMz48a5"
      }
    },
    {
      "cell_type": "code",
      "execution_count": null,
      "metadata": {
        "colab": {
          "base_uri": "https://localhost:8080/"
        },
        "id": "z-lI8xr9TI26",
        "outputId": "b528b674-6072-4427-97ef-96c01d520075"
      },
      "outputs": [
        {
          "name": "stdout",
          "output_type": "stream",
          "text": [
            "80.68%\n"
          ]
        }
      ],
      "source": [
        "n = 10000\n",
        "sk_tree = DecisionTreeClassifier(max_depth=20)\n",
        "sk_tree.fit(train_x_norm[0:n], train_y[0:n])\n",
        "sk_tree_predictions = sk_tree.predict(test_x_norm)\n",
        "sk_tree.accuracy = 100*sum(sk_tree_predictions == test_y) / test_y.shape[0]\n",
        "print('{}%'.format(sk_tree.accuracy))"
      ]
    },
    {
      "cell_type": "markdown",
      "source": [
        "## mikit"
      ],
      "metadata": {
        "id": "tZcr0XSj4-jO"
      }
    },
    {
      "cell_type": "code",
      "execution_count": null,
      "metadata": {
        "colab": {
          "base_uri": "https://localhost:8080/"
        },
        "id": "MMnFXWHoTajG",
        "outputId": "c0c5709e-bf5d-42fd-fa90-0d116e9c90f9"
      },
      "outputs": [
        {
          "name": "stdout",
          "output_type": "stream",
          "text": [
            "80.91%. True, mklearn's accuracy is just 0.23% higher than sklearn's.\n"
          ]
        }
      ],
      "source": [
        "max_depth, min_samples_split, min_gini = 20, 2, 1e-5\n",
        "mi_tree = MiDecisionTreeClassifier(max_depth, min_samples_split, min_gini)\n",
        "mi_tree.fit(train_x_norm[0:n], train_y_one_hot[0:n])\n",
        "mi_tree_predictions = mi_tree.predict(test_x_norm)\n",
        "mi_tree.evaluate_predictions(mi_tree_predictions, test_y)\n",
        "print('{}%.'.format(mi_tree.accuracy), mi_tree == sk_tree)"
      ]
    },
    {
      "cell_type": "markdown",
      "metadata": {
        "id": "LgnnP6E-XhtY"
      },
      "source": [
        "# Random forest"
      ]
    },
    {
      "cell_type": "markdown",
      "source": [
        "## scikit"
      ],
      "metadata": {
        "id": "ci5EUiww5HPo"
      }
    },
    {
      "cell_type": "code",
      "execution_count": null,
      "metadata": {
        "colab": {
          "base_uri": "https://localhost:8080/"
        },
        "id": "S1TlhbgdXjls",
        "outputId": "f6381c2f-e9d3-4e28-da40-e034c0fc7958"
      },
      "outputs": [
        {
          "name": "stdout",
          "output_type": "stream",
          "text": [
            "94.51%\n"
          ]
        }
      ],
      "source": [
        "n = 10000\n",
        "sk_forest = RandomForestClassifier(max_features=100, max_depth=20)\n",
        "sk_forest.fit(train_x[0:n], train_y[0:n])\n",
        "sk_forest_predictions = sk_forest.predict(test_x)\n",
        "sk_forest.accuracy = 100*sum(sk_forest_predictions == test_y) / test_y.shape[0]\n",
        "print('{}%'.format(sk_forest.accuracy))"
      ]
    },
    {
      "cell_type": "markdown",
      "source": [
        "## mikit"
      ],
      "metadata": {
        "id": "wIzlFkUg5I9A"
      }
    },
    {
      "cell_type": "code",
      "execution_count": null,
      "metadata": {
        "colab": {
          "base_uri": "https://localhost:8080/"
        },
        "id": "Q2dZ9HWhYDaA",
        "outputId": "1d9ad2aa-5eca-42a0-af4b-ab57ebfd9ff2"
      },
      "outputs": [
        {
          "name": "stdout",
          "output_type": "stream",
          "text": [
            "94.13%. True, mklearn's accuracy is just 0.38% lower than sklearn's.\n"
          ]
        }
      ],
      "source": [
        "n_trees, max_features, max_depth = 100, 100, 20 \n",
        "min_samples_split, min_gini, n_jobs = 2, 1e-5, 2\n",
        "mi_forest = MiRandomForestClassifier(n_trees, max_features, max_depth,\n",
        "                                     min_samples_split, min_gini, n_jobs)\n",
        "mi_forest.fit(train_x[0:n], train_y_one_hot[0:n])\n",
        "mi_forest_predictions = mi_forest.predict(test_x)\n",
        "mi_forest.evaluate_predictions(mi_forest_predictions, test_y)\n",
        "print('{}%.'.format(mi_forest.accuracy), mi_forest == sk_forest)"
      ]
    },
    {
      "cell_type": "markdown",
      "metadata": {
        "id": "BJJdBBRWRMw7"
      },
      "source": [
        "# PyTorch, MyTorch and TensorFlow imports"
      ]
    },
    {
      "cell_type": "code",
      "execution_count": null,
      "metadata": {
        "colab": {
          "base_uri": "https://localhost:8080/"
        },
        "id": "jXSMPZnNQm2R",
        "outputId": "ece9caf0-880c-4651-c2d8-d731e973200d"
      },
      "outputs": [
        {
          "output_type": "stream",
          "name": "stdout",
          "text": [
            "importing Jupyter notebook from MyTorch.ipynb\n"
          ]
        }
      ],
      "source": [
        "import numpy as np\n",
        "from torch import nn, no_grad, optim, float, Tensor\n",
        "from torch.utils.data import DataLoader, TensorDataset\n",
        "\n",
        "from MyTorch import MyMLP\n",
        "from MyTorch import MyCNN\n",
        "\n",
        "import tensorflow as tf\n",
        "from tensorflow.keras.models import Sequential\n",
        "from tensorflow.keras.layers import RandomRotation, RandomTranslation, Dense\n",
        "from tensorflow.keras.layers import Conv2D, MaxPooling2D, Flatten, BatchNormalization "
      ]
    },
    {
      "cell_type": "markdown",
      "source": [
        "As before, MyTorch's implementation is considered equal to PyTorch's if their accuracies are within 0.5% of each other."
      ],
      "metadata": {
        "id": "qh6dOAU86Jp9"
      }
    },
    {
      "cell_type": "markdown",
      "metadata": {
        "id": "LAYmIqJRRgE8"
      },
      "source": [
        "# Multilayer perceptron"
      ]
    },
    {
      "cell_type": "markdown",
      "metadata": {
        "id": "SM--IGZaVdH1"
      },
      "source": [
        "## Set hyperparameters & Augment data"
      ]
    },
    {
      "cell_type": "code",
      "execution_count": null,
      "metadata": {
        "id": "36QketeYRjXT"
      },
      "outputs": [],
      "source": [
        "epochs, batch_size, learning_rate, beta_1, beta_2 = 15, 16, 0.001, 0.9, 0.999\n",
        "hidden_neurons_1, hidden_neurons_2 = 75, 25\n",
        "input_neurons, output_neurons = train_X.shape[1]**2, train_y_one_hot.shape[1]\n",
        "\n",
        "augment = Sequential([RandomTranslation(0.05, 0.05), RandomRotation(0.05)])\n",
        "dataset = tf.data.Dataset.from_tensor_slices(train_X/255).batch(1)\n",
        "aug = []\n",
        "multiples_data = 2\n",
        "for i in range(multiples_data):\n",
        "  for d in dataset:\n",
        "    aug.append(augment(d))\n",
        "aug_data = np.array(aug).reshape(train_X.shape[0]*multiples_data, input_neurons)  \n",
        "aug_y = np.vstack((train_y_one_hot, train_y_one_hot))"
      ]
    },
    {
      "cell_type": "markdown",
      "source": [
        "## PyTorch"
      ],
      "metadata": {
        "id": "8eyoJs8E6yhS"
      }
    },
    {
      "cell_type": "code",
      "execution_count": null,
      "metadata": {
        "colab": {
          "base_uri": "https://localhost:8080/"
        },
        "id": "BNvOPG4yS1ef",
        "outputId": "0d4ddf42-bab8-42a0-8c88-da9f0408a9d9"
      },
      "outputs": [
        {
          "name": "stdout",
          "output_type": "stream",
          "text": [
            "97.22%\n"
          ]
        }
      ],
      "source": [
        "dataset = TensorDataset(Tensor(aug_data), Tensor(aug_y))\n",
        "train_loader = DataLoader(dataset, batch_size=batch_size)\n",
        "dataset = TensorDataset(Tensor(test_x_norm), Tensor(test_y))\n",
        "test_loader = DataLoader(dataset, batch_size=batch_size)\n",
        "\n",
        "\n",
        "class PyMLP(nn.Module):\n",
        "    \"\"\"PyTorch's Multilayer Perceptron.\"\"\"\n",
        "    def __init__(self):\n",
        "        super().__init__()\n",
        "        self.layers = nn.Sequential(\n",
        "        nn.Flatten(),\n",
        "        nn.Linear(input_neurons, hidden_neurons_1),\n",
        "        nn.ReLU(),\n",
        "        nn.Linear(hidden_neurons_1, hidden_neurons_2),\n",
        "        nn.ReLU(),\n",
        "        nn.Linear(hidden_neurons_2, output_neurons)\n",
        "        )\n",
        "\n",
        "    def forward(self, x):\n",
        "        '''Forward pass'''\n",
        "        return self.layers(x)\n",
        "\n",
        "\n",
        "pyMLP = PyMLP()\n",
        "loss_function = nn.CrossEntropyLoss()\n",
        "optimiser = optim.Adam(pyMLP.parameters())\n",
        "\n",
        "def train(dataloader, model, optimiser):\n",
        "    for batch, (X, y) in enumerate(dataloader):\n",
        "        pred = model(X)\n",
        "        loss = loss_function(pred, y)\n",
        "        # Backpropagation\n",
        "        optimiser.zero_grad()\n",
        "        loss.backward()\n",
        "        optimiser.step()\n",
        "\n",
        "def test(dataloader, model):\n",
        "    correct = 0\n",
        "    with no_grad():\n",
        "        for X, y in dataloader:\n",
        "            pred = model(X)\n",
        "            correct += (pred.argmax(1) == y).type(float).sum().item()\n",
        "    correct /= len(dataloader.dataset)\n",
        "    return 100*correct\n",
        "\n",
        "for t in range(epochs):\n",
        "    train(train_loader, pyMLP, optimiser)\n",
        "pyMLP.accuracy = test(test_loader, pyMLP)\n",
        "print(f'{pyMLP.accuracy:.2f}%')    "
      ]
    },
    {
      "cell_type": "markdown",
      "source": [
        "## MyTorch"
      ],
      "metadata": {
        "id": "7RKR-Cat67rw"
      }
    },
    {
      "cell_type": "code",
      "execution_count": null,
      "metadata": {
        "colab": {
          "base_uri": "https://localhost:8080/"
        },
        "id": "SaIUth4ZTyqQ",
        "outputId": "ca46dfa7-1c73-4a4a-fb16-b0779b9db37c"
      },
      "outputs": [
        {
          "name": "stdout",
          "output_type": "stream",
          "text": [
            "97.47%.  True, MyTorch's accuracy is just 0.25% higher than PyTorch's.\n"
          ]
        }
      ],
      "source": [
        "layer_sizes = [input_neurons, hidden_neurons_1, hidden_neurons_2, output_neurons]\n",
        "myMLP = MyMLP(epochs, batch_size, layer_sizes, learning_rate, beta_1, beta_2)\n",
        "myMLP.fit(aug_data.T, aug_y.T)\n",
        "predictions = myMLP.predict(test_x_norm)\n",
        "myMLP.evaluate_predictions(predictions, test_y)\n",
        "print(f'{myMLP.accuracy}%. ', myMLP == pyMLP)"
      ]
    },
    {
      "cell_type": "markdown",
      "source": [
        "## TensorFlow"
      ],
      "metadata": {
        "id": "9yfSXXUe7AHK"
      }
    },
    {
      "cell_type": "code",
      "execution_count": null,
      "metadata": {
        "colab": {
          "base_uri": "https://localhost:8080/"
        },
        "id": "Nl9Uul35Ty7h",
        "outputId": "df866941-279b-4ecf-f7a4-66cfcb533e74"
      },
      "outputs": [
        {
          "name": "stdout",
          "output_type": "stream",
          "text": [
            "97.41%\n"
          ]
        }
      ],
      "source": [
        "tfMLP = Sequential()\n",
        "tfMLP.add(Dense(hidden_neurons_1, input_dim=input_neurons, activation='relu'))\n",
        "tfMLP.add(Dense(hidden_neurons_2, 'relu'))\n",
        "tfMLP.add(Dense(output_neurons, 'softmax'))\n",
        "tfMLP.compile(loss='categorical_crossentropy', optimizer='adam')\n",
        "tfMLP.fit(aug_data, aug_y, epochs=epochs, batch_size=batch_size, verbose=0)\n",
        "pred = tfMLP.predict(test_x_norm)\n",
        "tf_accuracy = 100*sum(np.argmax(np.array(pred), axis=1)==test_y)/test_y.shape[0]\n",
        "print(f'{tf_accuracy}%')"
      ]
    },
    {
      "cell_type": "markdown",
      "metadata": {
        "id": "btrxxWqzlBxc"
      },
      "source": [
        "# Convolutional neural network"
      ]
    },
    {
      "cell_type": "markdown",
      "source": [
        "## PyTorch"
      ],
      "metadata": {
        "id": "M4X9zXUo7KvV"
      }
    },
    {
      "cell_type": "code",
      "execution_count": null,
      "metadata": {
        "colab": {
          "base_uri": "https://localhost:8080/"
        },
        "id": "zjnX-kL-lEpN",
        "outputId": "50af729e-5524-4d13-ed72-50a99adcadc3"
      },
      "outputs": [
        {
          "output_type": "stream",
          "name": "stdout",
          "text": [
            "98.88%\n"
          ]
        }
      ],
      "source": [
        "n_filters_1, n_filters_2, filter_size, n_dense = 8, 16, 5, 128\n",
        "epochs, batch_size, learning_rate = 10, 32, 0.005\n",
        "\n",
        "dataset = TensorDataset(Tensor(train_X.reshape(60000,1,28,28)), Tensor(train_y_one_hot))\n",
        "train_loader = DataLoader(dataset, batch_size=batch_size)\n",
        "dataset = TensorDataset(Tensor(test_X.reshape(10000,1,28,28)), Tensor(test_y))\n",
        "test_loader = DataLoader(dataset, batch_size=batch_size)\n",
        "\n",
        "\n",
        "class PyCNN(nn.Module):\n",
        "    \"\"\"PyTorch's convolutional neural network.\"\"\"\n",
        "    def __init__(self):\n",
        "        super().__init__()\n",
        "        self.layers = nn.Sequential(\n",
        "        nn.Conv2d(1, n_filters_1, filter_size, padding='same'),\n",
        "        nn.ReLU(),\n",
        "        nn.MaxPool2d(2),\n",
        "        nn.BatchNorm2d(n_filters_1),\n",
        "        nn.Conv2d(n_filters_1, n_filters_2, filter_size, padding='same'),\n",
        "        nn.ReLU(),\n",
        "        nn.MaxPool2d(2),\n",
        "        nn.BatchNorm2d(n_filters_2),\n",
        "        nn.Flatten(),\n",
        "        nn.Linear(n_filters_2 * 7 * 7, n_dense),\n",
        "        nn.ReLU(),\n",
        "        nn.BatchNorm1d(n_dense),\n",
        "        nn.Linear(n_dense, 10)\n",
        "        )\n",
        "\n",
        "    def forward(self, x):\n",
        "        '''Forward pass'''\n",
        "        return self.layers(x)\n",
        "\n",
        "\n",
        "pyCNN = PyCNN()\n",
        "loss_function = nn.CrossEntropyLoss()\n",
        "optimiser = optim.SGD(pyCNN.parameters(), lr=learning_rate)\n",
        "for t in range(epochs):\n",
        "    train(train_loader, pyCNN, optimiser)\n",
        "pyCNN.accuracy = test(test_loader, pyCNN)\n",
        "print(f'{pyCNN.accuracy:.2f}%') "
      ]
    },
    {
      "cell_type": "markdown",
      "source": [
        "## MyTorch"
      ],
      "metadata": {
        "id": "6RjbrS0L7YSS"
      }
    },
    {
      "cell_type": "code",
      "execution_count": null,
      "metadata": {
        "colab": {
          "base_uri": "https://localhost:8080/"
        },
        "id": "k8HGe72UjTvi",
        "outputId": "07ad708d-441d-4ab1-9313-e0be8ca0de55"
      },
      "outputs": [
        {
          "output_type": "stream",
          "name": "stdout",
          "text": [
            "98.61%.  True, MyTorch's accuracy is just 0.27% lower than PyTorch's.\n"
          ]
        }
      ],
      "source": [
        "myCNN = MyCNN(epochs, batch_size, filter_size, n_filters_1, n_filters_2,\n",
        "              n_dense, learning_rate)\n",
        "myCNN.fit(train_X, train_y_one_hot.T)\n",
        "predictions = myCNN.predict(test_X)\n",
        "myCNN.evaluate_predictions(predictions, test_y)\n",
        "print(f'{myCNN.accuracy}%. ', myCNN == pyCNN)"
      ]
    },
    {
      "cell_type": "markdown",
      "source": [
        "## TensorFlow"
      ],
      "metadata": {
        "id": "1Zy4BXg47ag-"
      }
    },
    {
      "cell_type": "code",
      "execution_count": null,
      "metadata": {
        "colab": {
          "base_uri": "https://localhost:8080/"
        },
        "id": "7S3pRsKfjUdB",
        "outputId": "4e9284af-c6e9-45e7-8308-f23333ced56f"
      },
      "outputs": [
        {
          "output_type": "stream",
          "name": "stdout",
          "text": [
            "99.09%\n"
          ]
        }
      ],
      "source": [
        "tfCNN = Sequential()\n",
        "tfCNN.add(Conv2D(n_filters_1, filter_size, padding='same', input_shape= (28,28,1), activation='relu'))\n",
        "tfCNN.add(MaxPooling2D(2))\n",
        "tfCNN.add(BatchNormalization())\n",
        "tfCNN.add(Conv2D(n_filters_2, filter_size, padding='same', activation='relu'))\n",
        "tfCNN.add(MaxPooling2D(2))\n",
        "tfCNN.add(BatchNormalization())\n",
        "tfCNN.add(Flatten())\n",
        "tfCNN.add(Dense(n_dense, 'relu'))\n",
        "tfCNN.add(BatchNormalization())\n",
        "tfCNN.add(Dense(10, activation='softmax'))\n",
        "tfCNN.compile(optimizer='sgd', loss='categorical_crossentropy')\n",
        "tfCNN.fit(train_X[:,:,:,np.newaxis], train_y_one_hot, batch_size=batch_size, epochs=epochs, verbose=0)\n",
        "pred = tfCNN.predict(test_X[:,:,:,np.newaxis])\n",
        "tf_accuracy = 100*sum(np.argmax(np.array(pred), axis=1)==test_y)/test_y.shape[0]\n",
        "print(f'{tf_accuracy}%')"
      ]
    },
    {
      "cell_type": "markdown",
      "source": [
        "# Plotting accuracies"
      ],
      "metadata": {
        "id": "LXl3QXCEpaYz"
      }
    },
    {
      "cell_type": "code",
      "source": [
        "import pandas as pd\n",
        "import seaborn as sns\n",
        "sns.axes_style('darkgrid')\n",
        "\n",
        "data = [['KNN', 96.88, 'scikit-learn'], \n",
        "        ['KNN', 96.88, 'mikit-learn'], \n",
        "        ['Logistic', 92.58, 'scikit-learn'],\n",
        "        ['Logistic', 92.56, 'mikit-learn'],\n",
        "        ['SVC', 95.94, 'scikit-learn'],\n",
        "        ['SVC', 95.55, 'mikit-learn'],\n",
        "        ['Tree', 80.68, 'scikit-learn'],\n",
        "        ['Tree', 80.91, 'mikit-learn'],\n",
        "        ['Forest', 94.51, 'scikit-learn'],\n",
        "        ['Forest', 94.13, 'mikit-learn'],\n",
        "        ['MLP', 97.41, 'TensorFlow'],\n",
        "        ['MLP', 97.22, 'PyTorch'],\n",
        "        ['MLP', 97.47, 'MyTorch'],\n",
        "        ['CNN', 99.09, 'TensorFlow'],\n",
        "        ['CNN', 98.88, 'PyTorch'],\n",
        "        ['CNN', 98.61, 'MyTorch']]\n",
        "df = pd.DataFrame(data, columns=['Algorithm', 'Accuracy', 'Framework'])\n",
        "\n",
        "sns.catplot(x='Algorithm', y='Accuracy', hue='Framework', kind='swarm', s=13, data=df)"
      ],
      "metadata": {
        "colab": {
          "base_uri": "https://localhost:8080/",
          "height": 402
        },
        "id": "ZNukzYVRoFzX",
        "outputId": "66099a90-12c0-40d7-c015-ffff70a4f3ab"
      },
      "execution_count": 24,
      "outputs": [
        {
          "output_type": "execute_result",
          "data": {
            "text/plain": [
              "<seaborn.axisgrid.FacetGrid at 0x7f2a74a38450>"
            ]
          },
          "metadata": {},
          "execution_count": 24
        },
        {
          "output_type": "display_data",
          "data": {
            "image/png": "[encoded data removed]",
            "text/plain": [
              "<Figure size 460.725x360 with 1 Axes>"
            ]
          },
          "metadata": {}
        }
      ]
    }
  ],
  "metadata": {
    "colab": {
      "name": "mikitVscikit.ipynb",
      "provenance": [],
      "mount_file_id": "19lHzkfYy_RcwuyVdLXE142F8kCNC_PLK",
      "authorship_tag": "ABX9TyMAy7KV+rhT72qbp3mWmP/h",
      "include_colab_link": true
    },
    "kernelspec": {
      "display_name": "Python 3",
      "name": "python3"
    },
    "language_info": {
      "name": "python"
    }
  },
  "nbformat": 4,
  "nbformat_minor": 0
}