{
  "nbformat": 4,
  "nbformat_minor": 0,
  "metadata": {
    "colab": {
      "name": "mklearn-test.ipynb",
      "provenance": [],
      "authorship_tag": "ABX9TyPSZd9sIYUZ/lC6tsPPCkyi",
      "include_colab_link": true
    },
    "kernelspec": {
      "name": "python3",
      "display_name": "Python 3"
    },
    "language_info": {
      "name": "python"
    }
  },
  "cells": [
    {
      "cell_type": "markdown",
      "metadata": {
        "id": "view-in-github",
        "colab_type": "text"
      },
      "source": [
        "<a href=\"https://colab.research.google.com/github/mattbarrett98/mikit-learn/blob/main/mklearn_test.ipynb\" target=\"_parent\"><img src=\"https://colab.research.google.com/assets/colab-badge.svg\" alt=\"Open In Colab\"/></a>"
      ]
    },
    {
      "cell_type": "code",
      "source": [
        "from google.colab import drive\n",
        "drive.mount(\"mnt\")\n",
        "%cd \"mnt/My Drive/Colab Notebooks\"\n",
        "!pip install import-ipynb\n",
        "import import_ipynb"
      ],
      "metadata": {
        "colab": {
          "base_uri": "https://localhost:8080/"
        },
        "id": "zFIzNcXNYOo7",
        "outputId": "6a63e616-18f3-4712-f693-dfeaeb7882fb"
      },
      "execution_count": 2,
      "outputs": [
        {
          "output_type": "stream",
          "name": "stdout",
          "text": [
            "Mounted at mnt\n",
            "/content/mnt/My Drive/Colab Notebooks\n",
            "Collecting import-ipynb\n",
            "  Downloading import-ipynb-0.1.3.tar.gz (4.0 kB)\n",
            "Building wheels for collected packages: import-ipynb\n",
            "  Building wheel for import-ipynb (setup.py) ... \u001b[?25l\u001b[?25hdone\n",
            "  Created wheel for import-ipynb: filename=import_ipynb-0.1.3-py3-none-any.whl size=2975 sha256=e64db7e2a03b91b88c9c2e91633c6543fb40cb6a0677e41cb56d4660bd2396be\n",
            "  Stored in directory: /root/.cache/pip/wheels/b1/5e/dc/79780689896a056199b0b9f24471e3ee184fbd816df355d5f0\n",
            "Successfully built import-ipynb\n",
            "Installing collected packages: import-ipynb\n",
            "Successfully installed import-ipynb-0.1.3\n"
          ]
        }
      ]
    },
    {
      "cell_type": "code",
      "execution_count": 48,
      "metadata": {
        "id": "LwBKIPe1U_jc"
      },
      "outputs": [],
      "source": [
        "from mklearn import Preprocessing \n",
        "import numpy as np\n",
        "import pytest"
      ]
    },
    {
      "cell_type": "code",
      "source": [
        "def test_flatten():\n",
        "    \"\"\"Verify the output of the flatten_image method in Preprocessing.\"\"\"\n",
        "    train_image = np.array([[[0, 1],[2, 3]], \n",
        "                            [[4, 5],[6, 7]], \n",
        "                            [[8, 9],[10, 11]]])\n",
        "    test_image = np.array([[[0.4, 0.2], [0.1, 0]], \n",
        "                           [[0, 0.1],[0, 1.0]]])\n",
        "    train_output, test_output = Preprocessing.flatten_image(train_image, test_image)\n",
        "    assert np.alltrue(train_output == np.array([[0, 1, 2, 3], \n",
        "                                                [4, 5, 6, 7],\n",
        "                                                [8, 9, 10, 11]]))\n",
        "    assert np.alltrue(test_output == np.array([[0.4, 0.2, 0.1, 0],\n",
        "                                               [0, 0.1, 0, 1.0]]))\n",
        "    \n",
        "def test_normalise():\n",
        "    \"\"\"Verify the output of the normalise_data method in Preprocessing.\"\"\"  \n",
        "    train_data = np.array([[[0, 255],[240, 100]], \n",
        "                           [[200, 255],[255, 255]]])\n",
        "    test_data = np.array([[[80, 85], [80, 0]], \n",
        "                           [[0, 255],[110, 100]]])   \n",
        "    train_output, test_output = Preprocessing.normalise_data(train_data, test_data)\n",
        "    train_out_exp = np.array([[[0, 1],[0.94118, 0.39216]], \n",
        "                           [[0.78431, 1],[1, 1]]])\n",
        "    test_out_exp = np.array([[[0.313725, 0.333333], [0.313725, 0]], \n",
        "                           [[0, 1],[0.431373, 0.392157]]])\n",
        "    assert np.allclose(train_output, train_out_exp)\n",
        "    assert np.allclose(test_output, test_out_exp)   \n",
        "\n",
        "def test_one_hot():\n",
        "    \"\"\"Verify output of one_hot_encode method in Preprocessing.\"\"\"\n",
        "    classes = np.array([2, 1, 0, 9, 7, 6, 3, 5, 4, 0, 8])\n",
        "    output = Preprocessing.one_hot_encode(classes)\n",
        "    expected = np.array([[0, 0, 1, 0, 0, 0, 0, 0, 0, 0],\n",
        "                         [0, 1, 0, 0, 0, 0, 0, 0, 0, 0],\n",
        "                         [1, 0, 0, 0, 0, 0, 0, 0, 0, 0],\n",
        "                         [0, 0, 0, 0, 0, 0, 0, 0, 0, 1],\n",
        "                         [0, 0, 0, 0, 0, 0, 0, 1, 0, 0],\n",
        "                         [0, 0, 0, 0, 0, 0, 1, 0, 0, 0],\n",
        "                         [0, 0, 0, 1, 0, 0, 0, 0, 0, 0],\n",
        "                         [0, 0, 0, 0, 0, 1, 0, 0, 0, 0],\n",
        "                         [0, 0, 0, 0, 1, 0, 0, 0, 0, 0],\n",
        "                         [1, 0, 0, 0, 0, 0, 0, 0, 0, 0],\n",
        "                         [0, 0, 0, 0, 0, 0, 0, 0, 1, 0]])\n",
        "    assert np.alltrue(output == expected)   \n",
        "\n",
        "def test_get_svc():\n",
        "    \"\"\"Verify output of get_svc_output method in Preprocessing.\"\"\"\n",
        "    classes = np.array([2, 1, 0, 9, 7, 6, 3, 5, 4, 0, 8])\n",
        "    output = Preprocessing.get_svc_output(classes)\n",
        "    expected = np.array([[-1, -1, 1, -1, -1, -1, -1, -1, -1, 1, -1],\n",
        "                         [-1, 1, -1, -1, -1, -1, -1, -1, -1, -1, -1],\n",
        "                         [1, -1, -1, -1, -1, -1, -1, -1, -1, -1, -1],\n",
        "                         [-1, -1, -1, -1, -1, -1, 1, -1, -1, -1, -1],\n",
        "                         [-1, -1, -1, -1, -1, -1, -1, -1, 1, -1, -1],\n",
        "                         [-1, -1, -1, -1, -1, -1, -1, 1, -1, -1, -1],\n",
        "                         [-1, -1, -1, -1, -1, 1, -1, -1, -1, -1, -1],\n",
        "                         [-1, -1, -1, -1, 1, -1, -1, -1, -1, -1, -1],\n",
        "                         [-1, -1, -1, -1, -1, -1, -1, -1, -1, -1, 1],\n",
        "                         [-1, -1, -1, 1, -1, -1, -1, -1, -1, -1, -1]])\n",
        "    assert np.alltrue(output == expected)     "
      ],
      "metadata": {
        "id": "vEroNX-NYz0M"
      },
      "execution_count": 61,
      "outputs": []
    },
    {
      "cell_type": "code",
      "source": [
        "test_flatten()\n",
        "test_normalise()\n",
        "test_one_hot()\n",
        "test_get_svc()\n",
        "print('Tests complete')"
      ],
      "metadata": {
        "colab": {
          "base_uri": "https://localhost:8080/"
        },
        "id": "j-sngsyRZ9sB",
        "outputId": "bc4e3265-c33b-4966-d1e3-01e1a60c0333"
      },
      "execution_count": 63,
      "outputs": [
        {
          "output_type": "stream",
          "name": "stdout",
          "text": [
            "Tests complete\n"
          ]
        }
      ]
    }
  ]
}